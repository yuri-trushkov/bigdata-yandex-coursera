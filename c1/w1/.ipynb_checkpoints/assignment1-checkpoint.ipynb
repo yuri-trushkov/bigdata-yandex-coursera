{
 "cells": [
  {
   "cell_type": "markdown",
   "metadata": {},
   "source": [
    "### Task 3"
   ]
  },
  {
   "cell_type": "code",
   "execution_count": 107,
   "metadata": {},
   "outputs": [
    {
     "name": "stdout",
     "output_type": "stream",
     "text": [
      "total 24\n",
      "-rw-rw-r-- 1 jovyan root  1634 Nov 28  2017 Demo.ipynb\n",
      "-rw-rw-r-- 1 jovyan root   239 Nov 28  2017 README.md\n",
      "-rw-r--r-- 1 root   users  757 Jun 24 08:33 supervisord.log\n",
      "-rw-r--r-- 1 root   users    2 Jun 24 08:33 supervisord.pid\n",
      "-rw-r--r-- 1 jovyan users   35 Jun 24 09:30 test.txt\n",
      "-rw-r--r-- 1 jovyan users 2519 Jun 24 09:29 Untitled.ipynb\n"
     ]
    }
   ],
   "source": [
    "%%bash \n",
    "touch test.txt\n",
    "ls -l"
   ]
  },
  {
   "cell_type": "code",
   "execution_count": 101,
   "metadata": {},
   "outputs": [
    {
     "name": "stdout",
     "output_type": "stream",
     "text": [
      "total 24\r\n",
      "-rw-rw-r-- 1 jovyan 1634 Nov 28  2017 Demo.ipynb\r\n",
      "-rw-rw-r-- 1 jovyan  239 Nov 28  2017 README.md\r\n",
      "-rw-r--r-- 1 root    757 Jun 24 08:33 supervisord.log\r\n",
      "-rw-r--r-- 1 root      2 Jun 24 08:33 supervisord.pid\r\n",
      "-rw-r--r-- 1 jovyan   35 Jun 24 09:01 test.txt\r\n",
      "-rw-r--r-- 1 jovyan 2519 Jun 24 09:29 Untitled.ipynb\r\n"
     ]
    }
   ],
   "source": [
    "ll"
   ]
  },
  {
   "cell_type": "code",
   "execution_count": 149,
   "metadata": {},
   "outputs": [
    {
     "name": "stdout",
     "output_type": "stream",
     "text": [
      "-rw-r--r--   1 jovyan supergroup        239 2017-11-28 21:41 README.md\r\n",
      "drwxr-xr-x   - jovyan supergroup          0 2018-06-24 10:04 assignment1\r\n",
      "-rw-r-----   1 jovyan supergroup         35 2018-06-24 09:31 assignment1/test.txt\r\n"
     ]
    }
   ],
   "source": [
    "! hdfs dfs -ls -R"
   ]
  },
  {
   "cell_type": "code",
   "execution_count": 17,
   "metadata": {},
   "outputs": [
    {
     "name": "stderr",
     "output_type": "stream",
     "text": [
      "mkdir: `assignment1': File exists\n"
     ]
    }
   ],
   "source": [
    "! hdfs dfs -mkdir assignment1"
   ]
  },
  {
   "cell_type": "code",
   "execution_count": 109,
   "metadata": {},
   "outputs": [],
   "source": [
    "! hdfs dfs -put test.txt assignment1/"
   ]
  },
  {
   "cell_type": "code",
   "execution_count": 113,
   "metadata": {},
   "outputs": [
    {
     "name": "stdout",
     "output_type": "stream",
     "text": [
      "-rw-r--r--   1 jovyan supergroup         35 2018-06-24 09:31 assignment1/test.txt\r\n"
     ]
    }
   ],
   "source": [
    "! hdfs dfs -ls -h assignment1/test.txt"
   ]
  },
  {
   "cell_type": "code",
   "execution_count": 150,
   "metadata": {},
   "outputs": [
    {
     "name": "stdout",
     "output_type": "stream",
     "text": [
      "35 jovyan\r\n"
     ]
    }
   ],
   "source": [
    "! hdfs dfs -stat \"%b %u\"  assignment1/test.txt"
   ]
  },
  {
   "cell_type": "code",
   "execution_count": 148,
   "metadata": {},
   "outputs": [],
   "source": [
    "! hdfs dfs -chmod 644 assignment1/test.txt"
   ]
  },
  {
   "cell_type": "code",
   "execution_count": 148,
   "metadata": {},
   "outputs": [],
   "source": [
    "! hdfs dfs -chmod o-r assignment1/test.txt"
   ]
  },
  {
   "cell_type": "code",
   "execution_count": 115,
   "metadata": {},
   "outputs": [
    {
     "name": "stdout",
     "output_type": "stream",
     "text": [
      "-rw-r-----   1 jovyan supergroup         35 2018-06-24 09:31 assignment1/test.txt\r\n"
     ]
    }
   ],
   "source": [
    "! hdfs dfs -ls -h assignment1/test.txt"
   ]
  },
  {
   "cell_type": "code",
   "execution_count": 116,
   "metadata": {},
   "outputs": [
    {
     "name": "stdout",
     "output_type": "stream",
     "text": [
      "line 1\r\n",
      "line 2\r\n",
      "line 3\r\n",
      "line 4\r\n",
      "line 5\r\n"
     ]
    }
   ],
   "source": [
    "! hdfs dfs -cat assignment1/test.txt | head -10"
   ]
  },
  {
   "cell_type": "code",
   "execution_count": 118,
   "metadata": {},
   "outputs": [],
   "source": [
    "! hdfs dfs -mv assignment1/test.txt assignment1/test2.txt"
   ]
  },
  {
   "cell_type": "code",
   "execution_count": 144,
   "metadata": {},
   "outputs": [],
   "source": [
    "! hdfs dfs -mv assignment1/test2.txt assignment1/test.txt"
   ]
  },
  {
   "cell_type": "markdown",
   "metadata": {},
   "source": [
    "### Task 4"
   ]
  },
  {
   "cell_type": "code",
   "execution_count": 142,
   "metadata": {},
   "outputs": [
    {
     "name": "stdout",
     "output_type": "stream",
     "text": [
      "-rwxrwxrwx   1 jovyan supergroup   76861985 2017-11-28 21:41 /data/wiki/en_articles_part/articles-part\r\n"
     ]
    }
   ],
   "source": [
    "! hdfs dfs -ls /data/wiki/en_articles_part/articles-part"
   ]
  },
  {
   "cell_type": "code",
   "execution_count": 140,
   "metadata": {},
   "outputs": [
    {
     "name": "stdout",
     "output_type": "stream",
     "text": [
      "Replication 1 set: /data/wiki/en_articles_part/articles-part\r\n"
     ]
    }
   ],
   "source": [
    "! hdfs dfs -setrep 1 /data/wiki/en_articles_part/articles-part"
   ]
  },
  {
   "cell_type": "code",
   "execution_count": 153,
   "metadata": {},
   "outputs": [
    {
     "name": "stdout",
     "output_type": "stream",
     "text": [
      "Connecting to namenode via http://localhost:50070/fsck?ugi=jovyan&files=1&blocks=1&path=%2Fdata%2Fwiki%2Fen_articles_part%2Farticles-part\r\n",
      "FSCK started by jovyan (auth:SIMPLE) from /127.0.0.1 for path /data/wiki/en_articles_part/articles-part at Sun Jun 24 10:12:00 UTC 2018\r\n",
      "/data/wiki/en_articles_part/articles-part 76861985 bytes, 1 block(s):  OK\r\n",
      "0. BP-912138591-172.17.0.1-1508245861251:blk_1073741825_1001 len=76861985 Live_repl=1\r\n",
      "\r\n",
      "Status: HEALTHY\r\n",
      " Total size:\t76861985 B\r\n",
      " Total dirs:\t0\r\n",
      " Total files:\t1\r\n",
      " Total symlinks:\t\t0\r\n",
      " Total blocks (validated):\t1 (avg. block size 76861985 B)\r\n",
      " Minimally replicated blocks:\t1 (100.0 %)\r\n",
      " Over-replicated blocks:\t0 (0.0 %)\r\n",
      " Under-replicated blocks:\t0 (0.0 %)\r\n",
      " Mis-replicated blocks:\t\t0 (0.0 %)\r\n",
      " Default replication factor:\t1\r\n",
      " Average block replication:\t1.0\r\n",
      " Corrupt blocks:\t\t0\r\n",
      " Missing replicas:\t\t0 (0.0 %)\r\n",
      " Number of data-nodes:\t\t1\r\n",
      " Number of racks:\t\t1\r\n",
      "FSCK ended at Sun Jun 24 10:12:00 UTC 2018 in 2 milliseconds\r\n",
      "\r\n",
      "\r\n",
      "The filesystem under path '/data/wiki/en_articles_part/articles-part' is HEALTHY\r\n"
     ]
    }
   ],
   "source": [
    "! hdfs fsck /data/wiki/en_articles_part/articles-part -files -blocks "
   ]
  },
  {
   "cell_type": "code",
   "execution_count": 152,
   "metadata": {},
   "outputs": [
    {
     "name": "stdout",
     "output_type": "stream",
     "text": [
      "Connecting to namenode via http://localhost:50070/fsck?ugi=jovyan&files=1&blocks=1&locations=1&path=%2Fdata%2Fwiki%2Fen_articles_part%2Farticles-part\n",
      "FSCK started by jovyan (auth:SIMPLE) from /127.0.0.1 for path /data/wiki/en_articles_part/articles-part at Sun Jun 24 10:11:08 UTC 2018\n",
      "/data/wiki/en_articles_part/articles-part 76861985 bytes, 1 block(s):  OK\n",
      "0. BP-912138591-172.17.0.1-1508245861251:blk_1073741825_1001 len=76861985 Live_repl=1 [DatanodeInfoWithStorage[127.0.0.1:50010,DS-abfda850-d766-4f78-a27c-3744043afccc,DISK]]\n",
      "\n",
      "Status: HEALTHY\n",
      " Total size:\t76861985 B\n",
      " Total dirs:\t0\n",
      " Total files:\t1\n",
      " Total symlinks:\t\t0\n",
      " Total blocks (validated):\t1 (avg. block size 76861985 B)\n",
      " Minimally replicated blocks:\t1 (100.0 %)\n",
      " Over-replicated blocks:\t0 (0.0 %)\n",
      " Under-replicated blocks:\t0 (0.0 %)\n",
      " Mis-replicated blocks:\t\t0 (0.0 %)\n",
      " Default replication factor:\t1\n",
      " Average block replication:\t1.0\n",
      " Corrupt blocks:\t\t0\n",
      " Missing replicas:\t\t0 (0.0 %)\n",
      " Number of data-nodes:\t\t1\n",
      " Number of racks:\t\t1\n",
      "FSCK ended at Sun Jun 24 10:11:08 UTC 2018 in 1 milliseconds\n",
      "\n",
      "\n",
      "The filesystem under path '/data/wiki/en_articles_part/articles-part' is HEALTHY\n"
     ]
    }
   ],
   "source": [
    "! hdfs fsck /data/wiki/en_articles_part/articles-part -files -blocks -locations"
   ]
  },
  {
   "cell_type": "code",
   "execution_count": 143,
   "metadata": {},
   "outputs": [
    {
     "name": "stdout",
     "output_type": "stream",
     "text": [
      "Connecting to namenode via http://localhost:50070/fsck?ugi=jovyan&blockId=blk_1073741825+&path=%2F\r\n",
      "FSCK started by jovyan (auth:SIMPLE) from /127.0.0.1 at Sun Jun 24 09:53:37 UTC 2018\r\n",
      "\r\n",
      "Block Id: blk_1073741825\r\n",
      "Block belongs to: /data/wiki/en_articles_part/articles-part\r\n",
      "No. of Expected Replica: 1\r\n",
      "No. of live Replica: 1\r\n",
      "No. of excess Replica: 0\r\n",
      "No. of stale Replica: 0\r\n",
      "No. of decommissioned Replica: 0\r\n",
      "No. of decommissioning Replica: 0\r\n",
      "No. of corrupted Replica: 0\r\n",
      "Block replica on datanode/rack: 7d249c637de1/default-rack is HEALTHY\r\n"
     ]
    }
   ],
   "source": [
    "! hdfs fsck -blockId blk_1073741825"
   ]
  },
  {
   "cell_type": "code",
   "execution_count": null,
   "metadata": {},
   "outputs": [],
   "source": []
  }
 ],
 "metadata": {
  "kernelspec": {
   "display_name": "Python 2",
   "language": "python",
   "name": "python2"
  },
  "language_info": {
   "codemirror_mode": {
    "name": "ipython",
    "version": 2
   },
   "file_extension": ".py",
   "mimetype": "text/x-python",
   "name": "python",
   "nbconvert_exporter": "python",
   "pygments_lexer": "ipython2",
   "version": "2.7.15"
  }
 },
 "nbformat": 4,
 "nbformat_minor": 2
}
