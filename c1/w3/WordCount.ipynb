{
 "cells": [
  {
   "cell_type": "code",
   "execution_count": 1,
   "metadata": {},
   "outputs": [
    {
     "name": "stdout",
     "output_type": "stream",
     "text": [
      "Found 1 items\r\n",
      "drwxr-xr-x   - jovyan supergroup          0 2018-10-21 17:41 wc_mr\r\n"
     ]
    }
   ],
   "source": [
    "! hdfs dfs -ls "
   ]
  },
  {
   "cell_type": "code",
   "execution_count": 2,
   "metadata": {},
   "outputs": [
    {
     "name": "stdout",
     "output_type": "stream",
     "text": [
      "drwxrwxrwx   - jovyan supergroup          0 2017-10-17 13:15 /data/wiki\n",
      "drwxrwxrwx   - jovyan supergroup          0 2017-10-17 13:15 /data/wiki/en_articles_part\n",
      "-rwxrwxrwx   1 jovyan supergroup   76861985 2017-10-17 13:15 /data/wiki/en_articles_part/articles-part\n"
     ]
    }
   ],
   "source": [
    "! hdfs dfs -ls -R /data"
   ]
  },
  {
   "cell_type": "code",
   "execution_count": 16,
   "metadata": {},
   "outputs": [],
   "source": [
    "from __future__ import print_function"
   ]
  },
  {
   "cell_type": "code",
   "execution_count": null,
   "metadata": {},
   "outputs": [],
   "source": []
  },
  {
   "cell_type": "markdown",
   "metadata": {},
   "source": [
    "### Mapper: simple"
   ]
  },
  {
   "cell_type": "code",
   "execution_count": 39,
   "metadata": {},
   "outputs": [
    {
     "name": "stdout",
     "output_type": "stream",
     "text": [
      "Overwriting mapper_wc.py\n"
     ]
    }
   ],
   "source": [
    "%%writefile mapper_wc.py\n",
    "#!/usr/bin/env python\n",
    "\n",
    "from __future__ import print_function\n",
    "import sys\n",
    "\n",
    "for line in sys.stdin:\n",
    "    article_id, content = line.split('\\t', 1)\n",
    "    words = content.split()\n",
    "    for word in words:\n",
    "        print(word, 1, sep='\\t')\n",
    "        "
   ]
  },
  {
   "cell_type": "code",
   "execution_count": 29,
   "metadata": {},
   "outputs": [
    {
     "name": "stdout",
     "output_type": "stream",
     "text": [
      "#!/usr/bin/env python\r\n",
      "\r\n",
      "from __future__ import print_function\r\n",
      "import sys\r\n",
      "\r\n",
      "for line in sys.stdin:\r\n",
      "    article_id, content = line.split('\\t', 1)\r\n",
      "    words = content.split()\r\n",
      "    for word in words:\r\n",
      "        print(word, 1, sep='\\t')\r\n",
      "        "
     ]
    }
   ],
   "source": [
    "!cat mapper_wc.py"
   ]
  },
  {
   "cell_type": "code",
   "execution_count": 30,
   "metadata": {},
   "outputs": [
    {
     "name": "stdout",
     "output_type": "stream",
     "text": [
      "Deleted wc_mr\n",
      "packageJobJar: [/tmp/hadoop-unjar6320021201903899629/] [] /tmp/streamjob5999991034133979879.jar tmpDir=null\n"
     ]
    },
    {
     "name": "stderr",
     "output_type": "stream",
     "text": [
      "18/10/21 18:03:36 INFO client.RMProxy: Connecting to ResourceManager at /0.0.0.0:8032\n",
      "18/10/21 18:03:37 INFO client.RMProxy: Connecting to ResourceManager at /0.0.0.0:8032\n",
      "18/10/21 18:03:38 INFO mapred.FileInputFormat: Total input files to process : 1\n",
      "18/10/21 18:03:38 INFO mapreduce.JobSubmitter: number of splits:2\n",
      "18/10/21 18:03:38 INFO mapreduce.JobSubmitter: Submitting tokens for job: job_1540138670744_0014\n",
      "18/10/21 18:03:39 INFO impl.YarnClientImpl: Submitted application application_1540138670744_0014\n",
      "18/10/21 18:03:39 INFO mapreduce.Job: The url to track the job: http://21ad51e5bf54:8088/proxy/application_1540138670744_0014/\n",
      "18/10/21 18:03:39 INFO mapreduce.Job: Running job: job_1540138670744_0014\n",
      "18/10/21 18:03:51 INFO mapreduce.Job: Job job_1540138670744_0014 running in uber mode : false\n",
      "18/10/21 18:03:51 INFO mapreduce.Job:  map 0% reduce 0%\n",
      "18/10/21 18:04:12 INFO mapreduce.Job:  map 74% reduce 0%\n",
      "18/10/21 18:04:14 INFO mapreduce.Job:  map 84% reduce 0%\n",
      "18/10/21 18:04:16 INFO mapreduce.Job:  map 100% reduce 0%\n",
      "18/10/21 18:04:18 INFO mapreduce.Job: Job job_1540138670744_0014 completed successfully\n",
      "18/10/21 18:04:18 INFO mapreduce.Job: Counters: 30\n",
      "\tFile System Counters\n",
      "\t\tFILE: Number of bytes read=0\n",
      "\t\tFILE: Number of bytes written=277724\n",
      "\t\tFILE: Number of read operations=0\n",
      "\t\tFILE: Number of large read operations=0\n",
      "\t\tFILE: Number of write operations=0\n",
      "\t\tHDFS: Number of bytes read=76874501\n",
      "\t\tHDFS: Number of bytes written=100339141\n",
      "\t\tHDFS: Number of read operations=10\n",
      "\t\tHDFS: Number of large read operations=0\n",
      "\t\tHDFS: Number of write operations=4\n",
      "\tJob Counters \n",
      "\t\tLaunched map tasks=2\n",
      "\t\tData-local map tasks=2\n",
      "\t\tTotal time spent by all maps in occupied slots (ms)=44712\n",
      "\t\tTotal time spent by all reduces in occupied slots (ms)=0\n",
      "\t\tTotal time spent by all map tasks (ms)=44712\n",
      "\t\tTotal vcore-milliseconds taken by all map tasks=44712\n",
      "\t\tTotal megabyte-milliseconds taken by all map tasks=45785088\n",
      "\tMap-Reduce Framework\n",
      "\t\tMap input records=4100\n",
      "\t\tMap output records=12031544\n",
      "\t\tInput split bytes=228\n",
      "\t\tSpilled Records=0\n",
      "\t\tFailed Shuffles=0\n",
      "\t\tMerged Map outputs=0\n",
      "\t\tGC time elapsed (ms)=480\n",
      "\t\tCPU time spent (ms)=50580\n",
      "\t\tPhysical memory (bytes) snapshot=357588992\n",
      "\t\tVirtual memory (bytes) snapshot=3970875392\n",
      "\t\tTotal committed heap usage (bytes)=291504128\n",
      "\tFile Input Format Counters \n",
      "\t\tBytes Read=76874273\n",
      "\tFile Output Format Counters \n",
      "\t\tBytes Written=100339141\n",
      "18/10/21 18:04:18 INFO streaming.StreamJob: Output directory: wc_mr\n"
     ]
    }
   ],
   "source": [
    "%%bash\n",
    "\n",
    "OUT_DIR=wc_mr\n",
    "\n",
    "hdfs dfs -rm -r -skipTrash ${OUT_DIR}\n",
    "\n",
    "yarn jar /opt/cloudera/parcels/CDH/lib/hadoop-mapreduce/hadoop-streaming.jar \\\n",
    "    -files mapper_wc.py\\\n",
    "    -mapper mapper_wc.py \\\n",
    "    -numReduceTasks 0 \\\n",
    "    -input /data/wiki/en_articles_part \\\n",
    "    -output $OUT_DIR\n"
   ]
  },
  {
   "cell_type": "code",
   "execution_count": 32,
   "metadata": {
    "scrolled": true
   },
   "outputs": [
    {
     "name": "stdout",
     "output_type": "stream",
     "text": [
      "Basel\t1\r\n",
      "Basel\t1\r\n",
      "(\t1\r\n",
      ")\t1\r\n",
      "or\t1\r\n",
      "Basle\t1\r\n",
      "(\t1\r\n",
      ";\t1\r\n",
      ";\t1\r\n",
      ")\t1\r\n",
      "cat: Unable to write to output stream.\r\n",
      "cat: Unable to write to output stream.\r\n"
     ]
    }
   ],
   "source": [
    "! hdfs dfs -cat wc_mr/* | head "
   ]
  },
  {
   "cell_type": "markdown",
   "metadata": {},
   "source": [
    "#### check mapper"
   ]
  },
  {
   "cell_type": "code",
   "execution_count": 33,
   "metadata": {},
   "outputs": [
    {
     "name": "stdout",
     "output_type": "stream",
     "text": [
      "Deleted wc_mr\n",
      "packageJobJar: [/tmp/hadoop-unjar5672727913801196451/] [] /tmp/streamjob7255745284088310442.jar tmpDir=null\n"
     ]
    },
    {
     "name": "stderr",
     "output_type": "stream",
     "text": [
      "18/10/21 18:08:32 INFO client.RMProxy: Connecting to ResourceManager at /0.0.0.0:8032\n",
      "18/10/21 18:08:32 INFO client.RMProxy: Connecting to ResourceManager at /0.0.0.0:8032\n",
      "18/10/21 18:08:33 INFO mapred.FileInputFormat: Total input files to process : 1\n",
      "18/10/21 18:08:33 INFO mapreduce.JobSubmitter: number of splits:2\n",
      "18/10/21 18:08:34 INFO mapreduce.JobSubmitter: Submitting tokens for job: job_1540138670744_0015\n",
      "18/10/21 18:08:34 INFO impl.YarnClientImpl: Submitted application application_1540138670744_0015\n",
      "18/10/21 18:08:34 INFO mapreduce.Job: The url to track the job: http://21ad51e5bf54:8088/proxy/application_1540138670744_0015/\n",
      "18/10/21 18:08:34 INFO mapreduce.Job: Running job: job_1540138670744_0015\n",
      "18/10/21 18:08:45 INFO mapreduce.Job: Job job_1540138670744_0015 running in uber mode : false\n",
      "18/10/21 18:08:45 INFO mapreduce.Job:  map 0% reduce 0%\n",
      "18/10/21 18:09:06 INFO mapreduce.Job:  map 34% reduce 0%\n",
      "18/10/21 18:09:12 INFO mapreduce.Job:  map 46% reduce 0%\n",
      "18/10/21 18:09:24 INFO mapreduce.Job:  map 67% reduce 0%\n",
      "18/10/21 18:09:36 INFO mapreduce.Job:  map 71% reduce 0%\n",
      "18/10/21 18:09:42 INFO mapreduce.Job:  map 97% reduce 0%\n",
      "18/10/21 18:09:43 INFO mapreduce.Job:  map 100% reduce 0%\n",
      "18/10/21 18:10:03 INFO mapreduce.Job:  map 100% reduce 87%\n",
      "18/10/21 18:10:09 INFO mapreduce.Job:  map 100% reduce 98%\n",
      "18/10/21 18:10:10 INFO mapreduce.Job:  map 100% reduce 100%\n",
      "18/10/21 18:10:11 INFO mapreduce.Job: Job job_1540138670744_0015 completed successfully\n",
      "18/10/21 18:10:11 INFO mapreduce.Job: Counters: 49\n",
      "\tFile System Counters\n",
      "\t\tFILE: Number of bytes read=248804536\n",
      "\t\tFILE: Number of bytes written=373622441\n",
      "\t\tFILE: Number of read operations=0\n",
      "\t\tFILE: Number of large read operations=0\n",
      "\t\tFILE: Number of write operations=0\n",
      "\t\tHDFS: Number of bytes read=76874501\n",
      "\t\tHDFS: Number of bytes written=100339141\n",
      "\t\tHDFS: Number of read operations=9\n",
      "\t\tHDFS: Number of large read operations=0\n",
      "\t\tHDFS: Number of write operations=2\n",
      "\tJob Counters \n",
      "\t\tLaunched map tasks=2\n",
      "\t\tLaunched reduce tasks=1\n",
      "\t\tData-local map tasks=2\n",
      "\t\tTotal time spent by all maps in occupied slots (ms)=110229\n",
      "\t\tTotal time spent by all reduces in occupied slots (ms)=24450\n",
      "\t\tTotal time spent by all map tasks (ms)=110229\n",
      "\t\tTotal time spent by all reduce tasks (ms)=24450\n",
      "\t\tTotal vcore-milliseconds taken by all map tasks=110229\n",
      "\t\tTotal vcore-milliseconds taken by all reduce tasks=24450\n",
      "\t\tTotal megabyte-milliseconds taken by all map tasks=112874496\n",
      "\t\tTotal megabyte-milliseconds taken by all reduce tasks=25036800\n",
      "\tMap-Reduce Framework\n",
      "\t\tMap input records=4100\n",
      "\t\tMap output records=12031544\n",
      "\t\tMap output bytes=100339151\n",
      "\t\tMap output materialized bytes=124402262\n",
      "\t\tInput split bytes=228\n",
      "\t\tCombine input records=0\n",
      "\t\tCombine output records=0\n",
      "\t\tReduce input groups=782735\n",
      "\t\tReduce shuffle bytes=124402262\n",
      "\t\tReduce input records=12031544\n",
      "\t\tReduce output records=12031544\n",
      "\t\tSpilled Records=36094632\n",
      "\t\tShuffled Maps =2\n",
      "\t\tFailed Shuffles=0\n",
      "\t\tMerged Map outputs=2\n",
      "\t\tGC time elapsed (ms)=689\n",
      "\t\tCPU time spent (ms)=149760\n",
      "\t\tPhysical memory (bytes) snapshot=688893952\n",
      "\t\tVirtual memory (bytes) snapshot=5942693888\n",
      "\t\tTotal committed heap usage (bytes)=552599552\n",
      "\tShuffle Errors\n",
      "\t\tBAD_ID=0\n",
      "\t\tCONNECTION=0\n",
      "\t\tIO_ERROR=0\n",
      "\t\tWRONG_LENGTH=0\n",
      "\t\tWRONG_MAP=0\n",
      "\t\tWRONG_REDUCE=0\n",
      "\tFile Input Format Counters \n",
      "\t\tBytes Read=76874273\n",
      "\tFile Output Format Counters \n",
      "\t\tBytes Written=100339141\n",
      "18/10/21 18:10:11 INFO streaming.StreamJob: Output directory: wc_mr\n"
     ]
    }
   ],
   "source": [
    "%%bash\n",
    "\n",
    "OUT_DIR=wc_mr\n",
    "\n",
    "hdfs dfs -rm -r -skipTrash ${OUT_DIR}\n",
    "\n",
    "yarn jar /opt/cloudera/parcels/CDH/lib/hadoop-mapreduce/hadoop-streaming.jar \\\n",
    "    -files mapper_wc.py\\\n",
    "    -mapper mapper_wc.py \\\n",
    "    -numReduceTasks 1 \\\n",
    "    -input /data/wiki/en_articles_part \\\n",
    "    -output $OUT_DIR\n"
   ]
  },
  {
   "cell_type": "code",
   "execution_count": 34,
   "metadata": {},
   "outputs": [
    {
     "name": "stdout",
     "output_type": "stream",
     "text": [
      "!\t1\r\n",
      "!\t1\r\n",
      "!\t1\r\n",
      "!\t1\r\n",
      "!\t1\r\n",
      "!\t1\r\n",
      "!\t1\r\n",
      "!\t1\r\n",
      "!\t1\r\n",
      "!\t1\r\n",
      "cat: Unable to write to output stream.\r\n"
     ]
    }
   ],
   "source": [
    "! hdfs dfs -cat wc_mr/* | head "
   ]
  },
  {
   "cell_type": "code",
   "execution_count": null,
   "metadata": {},
   "outputs": [],
   "source": []
  },
  {
   "cell_type": "code",
   "execution_count": null,
   "metadata": {},
   "outputs": [],
   "source": []
  },
  {
   "cell_type": "markdown",
   "metadata": {},
   "source": [
    "### Mapper: right"
   ]
  },
  {
   "cell_type": "code",
   "execution_count": 36,
   "metadata": {},
   "outputs": [],
   "source": [
    "import re"
   ]
  },
  {
   "cell_type": "code",
   "execution_count": 40,
   "metadata": {},
   "outputs": [
    {
     "name": "stdout",
     "output_type": "stream",
     "text": [
      "Overwriting mapper_wc.py\n"
     ]
    }
   ],
   "source": [
    "%%writefile mapper_wc.py\n",
    "#!/usr/bin/env python\n",
    "\n",
    "from __future__ import print_function\n",
    "import sys\n",
    "import re\n",
    "\n",
    "for line in sys.stdin:\n",
    "    article_id, content = line.split('\\t', 1)\n",
    "    words = re.split(\"\\W+\", content)\n",
    "    for word in words:\n",
    "        print(word, 1, sep='\\t')\n",
    "        "
   ]
  },
  {
   "cell_type": "code",
   "execution_count": 41,
   "metadata": {},
   "outputs": [
    {
     "name": "stdout",
     "output_type": "stream",
     "text": [
      "#!/usr/bin/env python\r\n",
      "\r\n",
      "from __future__ import print_function\r\n",
      "import sys\r\n",
      "import re\r\n",
      "\r\n",
      "for line in sys.stdin:\r\n",
      "    article_id, content = line.split('\\t', 1)\r\n",
      "    words = re.split(\"\\W+\", content)\r\n",
      "    for word in words:\r\n",
      "        print(word, 1, sep='\\t')\r\n",
      "        "
     ]
    }
   ],
   "source": [
    "!cat mapper_wc.py"
   ]
  },
  {
   "cell_type": "code",
   "execution_count": 42,
   "metadata": {},
   "outputs": [
    {
     "name": "stdout",
     "output_type": "stream",
     "text": [
      "Deleted wc_mr\n",
      "packageJobJar: [/tmp/hadoop-unjar3216437397648960962/] [] /tmp/streamjob9138721520562476023.jar tmpDir=null\n"
     ]
    },
    {
     "name": "stderr",
     "output_type": "stream",
     "text": [
      "18/10/21 18:40:39 INFO client.RMProxy: Connecting to ResourceManager at /0.0.0.0:8032\n",
      "18/10/21 18:40:40 INFO client.RMProxy: Connecting to ResourceManager at /0.0.0.0:8032\n",
      "18/10/21 18:41:42 INFO mapred.FileInputFormat: Total input files to process : 1\n",
      "18/10/21 18:41:58 INFO mapreduce.JobSubmitter: number of splits:2\n",
      "18/10/21 18:42:27 INFO mapreduce.JobSubmitter: Submitting tokens for job: job_1540138670744_0016\n",
      "18/10/21 18:50:42 INFO impl.YarnClientImpl: Submitted application application_1540138670744_0016\n",
      "18/10/21 18:50:42 INFO mapreduce.Job: The url to track the job: http://21ad51e5bf54:8088/proxy/application_1540138670744_0016/\n",
      "18/10/21 18:50:42 INFO mapreduce.Job: Running job: job_1540138670744_0016\n",
      "18/10/21 18:51:06 INFO mapreduce.Job: Job job_1540138670744_0016 running in uber mode : false\n",
      "18/10/21 18:51:06 INFO mapreduce.Job:  map 0% reduce 0%\n",
      "18/10/21 18:51:06 INFO mapreduce.Job: Job job_1540138670744_0016 failed with state FAILED due to: Application application_1540138670744_0016 failed 2 times due to AM Container for appattempt_1540138670744_0016_000002 exited with  exitCode: 1\n",
      "Failing this attempt.Diagnostics: Exception from container-launch.\n",
      "Container id: container_1540138670744_0016_02_000001\n",
      "Exit code: 1\n",
      "Stack trace: ExitCodeException exitCode=1: \n",
      "\tat org.apache.hadoop.util.Shell.runCommand(Shell.java:972)\n",
      "\tat org.apache.hadoop.util.Shell.run(Shell.java:869)\n",
      "\tat org.apache.hadoop.util.Shell$ShellCommandExecutor.execute(Shell.java:1170)\n",
      "\tat org.apache.hadoop.yarn.server.nodemanager.DefaultContainerExecutor.launchContainer(DefaultContainerExecutor.java:236)\n",
      "\tat org.apache.hadoop.yarn.server.nodemanager.containermanager.launcher.ContainerLaunch.call(ContainerLaunch.java:305)\n",
      "\tat org.apache.hadoop.yarn.server.nodemanager.containermanager.launcher.ContainerLaunch.call(ContainerLaunch.java:84)\n",
      "\tat java.util.concurrent.FutureTask.run(FutureTask.java:266)\n",
      "\tat java.util.concurrent.ThreadPoolExecutor.runWorker(ThreadPoolExecutor.java:1149)\n",
      "\tat java.util.concurrent.ThreadPoolExecutor$Worker.run(ThreadPoolExecutor.java:624)\n",
      "\tat java.lang.Thread.run(Thread.java:748)\n",
      "\n",
      "\n",
      "Container exited with a non-zero exit code 1\n",
      "For more detailed output, check the application tracking page: http://21ad51e5bf54:8088/cluster/app/application_1540138670744_0016 Then click on links to logs of each attempt.\n",
      ". Failing the application.\n",
      "18/10/21 18:51:06 INFO mapreduce.Job: Counters: 0\n",
      "18/10/21 18:51:06 ERROR streaming.StreamJob: Job not successful!\n",
      "Streaming Command Failed!\n"
     ]
    }
   ],
   "source": [
    "%%bash\n",
    "\n",
    "OUT_DIR=wc_mr\n",
    "\n",
    "hdfs dfs -rm -r -skipTrash ${OUT_DIR}\n",
    "\n",
    "yarn jar /opt/cloudera/parcels/CDH/lib/hadoop-mapreduce/hadoop-streaming.jar \\\n",
    "    -files mapper_wc.py\\\n",
    "    -mapper mapper_wc.py \\\n",
    "    -numReduceTasks 1 \\\n",
    "    -input /data/wiki/en_articles_part \\\n",
    "    -output $OUT_DIR\n"
   ]
  },
  {
   "cell_type": "code",
   "execution_count": 43,
   "metadata": {},
   "outputs": [
    {
     "name": "stdout",
     "output_type": "stream",
     "text": [
      "cat: `wc_mr/*': No such file or directory\r\n"
     ]
    }
   ],
   "source": [
    "! hdfs dfs -cat wc_mr/* | head "
   ]
  }
 ],
 "metadata": {
  "kernelspec": {
   "display_name": "Python 2",
   "language": "python",
   "name": "python2"
  },
  "language_info": {
   "codemirror_mode": {
    "name": "ipython",
    "version": 2
   },
   "file_extension": ".py",
   "mimetype": "text/x-python",
   "name": "python",
   "nbconvert_exporter": "python",
   "pygments_lexer": "ipython2",
   "version": "2.7.12"
  }
 },
 "nbformat": 4,
 "nbformat_minor": 2
}
